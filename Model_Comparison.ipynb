{
 "cells": [
  {
   "cell_type": "code",
   "execution_count": 68,
   "metadata": {
    "collapsed": true
   },
   "outputs": [],
   "source": [
    "%matplotlib inline\n",
    "import numpy as np\n",
    "import pandas as pd\n",
    "import scipy\n",
    "import sklearn\n",
    "from sklearn import linear_model, neighbors\n",
    "from sklearn.model_selection import train_test_split, cross_val_score\n",
    "from sklearn import preprocessing\n",
    "import matplotlib.pyplot as plt\n",
    "import seaborn as sns"
   ]
  },
  {
   "cell_type": "code",
   "execution_count": 77,
   "metadata": {},
   "outputs": [
    {
     "data": {
      "text/html": [
       "<div>\n",
       "<style>\n",
       "    .dataframe thead tr:only-child th {\n",
       "        text-align: right;\n",
       "    }\n",
       "\n",
       "    .dataframe thead th {\n",
       "        text-align: left;\n",
       "    }\n",
       "\n",
       "    .dataframe tbody tr th {\n",
       "        vertical-align: top;\n",
       "    }\n",
       "</style>\n",
       "<table border=\"1\" class=\"dataframe\">\n",
       "  <thead>\n",
       "    <tr style=\"text-align: right;\">\n",
       "      <th></th>\n",
       "      <th>satisfaction_level</th>\n",
       "      <th>last_evaluation</th>\n",
       "      <th>number_project</th>\n",
       "      <th>average_montly_hours</th>\n",
       "      <th>time_spend_company</th>\n",
       "      <th>Work_accident</th>\n",
       "      <th>left</th>\n",
       "      <th>promotion_last_5years</th>\n",
       "      <th>sales</th>\n",
       "      <th>salary</th>\n",
       "    </tr>\n",
       "  </thead>\n",
       "  <tbody>\n",
       "    <tr>\n",
       "      <th>0</th>\n",
       "      <td>0.38</td>\n",
       "      <td>0.53</td>\n",
       "      <td>2</td>\n",
       "      <td>157</td>\n",
       "      <td>3</td>\n",
       "      <td>0</td>\n",
       "      <td>1</td>\n",
       "      <td>0</td>\n",
       "      <td>sales</td>\n",
       "      <td>low</td>\n",
       "    </tr>\n",
       "    <tr>\n",
       "      <th>1</th>\n",
       "      <td>0.80</td>\n",
       "      <td>0.86</td>\n",
       "      <td>5</td>\n",
       "      <td>262</td>\n",
       "      <td>6</td>\n",
       "      <td>0</td>\n",
       "      <td>1</td>\n",
       "      <td>0</td>\n",
       "      <td>sales</td>\n",
       "      <td>medium</td>\n",
       "    </tr>\n",
       "    <tr>\n",
       "      <th>2</th>\n",
       "      <td>0.11</td>\n",
       "      <td>0.88</td>\n",
       "      <td>7</td>\n",
       "      <td>272</td>\n",
       "      <td>4</td>\n",
       "      <td>0</td>\n",
       "      <td>1</td>\n",
       "      <td>0</td>\n",
       "      <td>sales</td>\n",
       "      <td>medium</td>\n",
       "    </tr>\n",
       "    <tr>\n",
       "      <th>3</th>\n",
       "      <td>0.72</td>\n",
       "      <td>0.87</td>\n",
       "      <td>5</td>\n",
       "      <td>223</td>\n",
       "      <td>5</td>\n",
       "      <td>0</td>\n",
       "      <td>1</td>\n",
       "      <td>0</td>\n",
       "      <td>sales</td>\n",
       "      <td>low</td>\n",
       "    </tr>\n",
       "    <tr>\n",
       "      <th>4</th>\n",
       "      <td>0.37</td>\n",
       "      <td>0.52</td>\n",
       "      <td>2</td>\n",
       "      <td>159</td>\n",
       "      <td>3</td>\n",
       "      <td>0</td>\n",
       "      <td>1</td>\n",
       "      <td>0</td>\n",
       "      <td>sales</td>\n",
       "      <td>low</td>\n",
       "    </tr>\n",
       "  </tbody>\n",
       "</table>\n",
       "</div>"
      ],
      "text/plain": [
       "   satisfaction_level  last_evaluation  number_project  average_montly_hours  \\\n",
       "0                0.38             0.53               2                   157   \n",
       "1                0.80             0.86               5                   262   \n",
       "2                0.11             0.88               7                   272   \n",
       "3                0.72             0.87               5                   223   \n",
       "4                0.37             0.52               2                   159   \n",
       "\n",
       "   time_spend_company  Work_accident  left  promotion_last_5years  sales  \\\n",
       "0                   3              0     1                      0  sales   \n",
       "1                   6              0     1                      0  sales   \n",
       "2                   4              0     1                      0  sales   \n",
       "3                   5              0     1                      0  sales   \n",
       "4                   3              0     1                      0  sales   \n",
       "\n",
       "   salary  \n",
       "0     low  \n",
       "1  medium  \n",
       "2  medium  \n",
       "3     low  \n",
       "4     low  "
      ]
     },
     "execution_count": 77,
     "metadata": {},
     "output_type": "execute_result"
    }
   ],
   "source": [
    "data2 = ('/Users/Beba/Documents/JupyterNotebooks/HR_comma_sep.csv')\n",
    "hr_df = pd.read_csv(data2)\n",
    "\n",
    "hr_df.head()"
   ]
  },
  {
   "cell_type": "code",
   "execution_count": 78,
   "metadata": {},
   "outputs": [
    {
     "data": {
      "text/plain": [
       "satisfaction_level       0\n",
       "last_evaluation          0\n",
       "number_project           0\n",
       "average_montly_hours     0\n",
       "time_spend_company       0\n",
       "Work_accident            0\n",
       "left                     0\n",
       "promotion_last_5years    0\n",
       "sales                    0\n",
       "salary                   0\n",
       "dtype: int64"
      ]
     },
     "execution_count": 78,
     "metadata": {},
     "output_type": "execute_result"
    }
   ],
   "source": [
    "hr_df.isnull().sum() # love simulated datasets!"
   ]
  },
  {
   "cell_type": "code",
   "execution_count": 83,
   "metadata": {},
   "outputs": [
    {
     "data": {
      "text/plain": [
       "14999"
      ]
     },
     "execution_count": 83,
     "metadata": {},
     "output_type": "execute_result"
    }
   ],
   "source": [
    "len(hr_df.average_montly_hours)"
   ]
  },
  {
   "cell_type": "code",
   "execution_count": 129,
   "metadata": {},
   "outputs": [
    {
     "data": {
      "image/png": "[encoded data removed]",
      "text/plain": [
       "<matplotlib.figure.Figure at 0x11cd42518>"
      ]
     },
     "metadata": {},
     "output_type": "display_data"
    }
   ],
   "source": [
    "knn = neighbors.KNeighborsRegressor(n_neighbors=10)\n",
    "X = pd.DataFrame(hr_df.average_montly_hours)\n",
    "Y = hr_df.satisfaction_level\n",
    "X_train, X_test, Y_train, Y_test = train_test_split(X, Y, test_size=.35)\n",
    "knn.fit(X_train, Y_train)\n",
    "\n",
    "T = np.arange(0, 400, 10)[:, np.newaxis]\n",
    "Y_ = knn.predict(T)\n",
    "\n",
    "plt.scatter(X_test, Y_test, c='k', label='data')\n",
    "plt.plot(T, Y_, c='g', label='prediction')\n",
    "plt.axvline(x=173, color='blue', linestyle='--')\n",
    "plt.axvline(x=260, color='red', linestyle='--')\n",
    "plt.xlabel('40Hours/week averages 173Hours/month \\n 60Hours/week averages 260Hours/Month')\n",
    "plt.legend()\n",
    "plt.title('K=10, Unweighted')\n",
    "plt.show()"
   ]
  },
  {
   "cell_type": "code",
   "execution_count": 165,
   "metadata": {},
   "outputs": [
    {
     "data": {
      "image/png": "[encoded data removed]",
      "text/plain": [
       "<matplotlib.figure.Figure at 0x1192bc4a8>"
      ]
     },
     "metadata": {},
     "output_type": "display_data"
    }
   ],
   "source": [
    "knn_w = neighbors.KNeighborsRegressor(n_neighbors=10, weights='distance')\n",
    "X = pd.DataFrame(hr_df.average_montly_hours)\n",
    "Y = hr_df.satisfaction_level\n",
    "X_train, X_test, Y_train, Y_test = train_test_split(X, Y, test_size=.35)\n",
    "knn_w.fit(X_train, Y_train)\n",
    "\n",
    "T = np.arange(75, 350, 10)[:, np.newaxis]\n",
    "Y_ = knn_w.predict(T)\n",
    "\n",
    "plt.scatter(X_test, Y_test, c='k', label='data')\n",
    "plt.plot(T, Y_, c='g', label='prediction')\n",
    "plt.axvline(x=173, color='blue', linestyle='--')\n",
    "plt.axvline(x=260, color='red', linestyle='--')\n",
    "plt.xlabel('40Hours/week averages 173Hours/month \\n 60Hours/week averages 260Hours/Month')\n",
    "plt.legend()\n",
    "plt.title('K=10, Unweighted')\n",
    "plt.show()"
   ]
  },
  {
   "cell_type": "code",
   "execution_count": 131,
   "metadata": {},
   "outputs": [
    {
     "name": "stdout",
     "output_type": "stream",
     "text": [
      "Unweighted Accuracy: -0.05 (+/- 0.31)\n",
      "Weighted Accuracy: -0.05 (+/- 0.31)\n"
     ]
    }
   ],
   "source": [
    "score = cross_val_score(knn, X, Y, cv=5)\n",
    "print(\"Unweighted Accuracy: %0.2f (+/- %0.2f)\" % (score.mean(), score.std() * 2))\n",
    "score_w = cross_val_score(knn_w, X, Y, cv=5)\n",
    "print(\"Weighted Accuracy: %0.2f (+/- %0.2f)\" % (score_w.mean(), score_w.std() * 2))"
   ]
  },
  {
   "cell_type": "code",
   "execution_count": 176,
   "metadata": {},
   "outputs": [
    {
     "name": "stdout",
     "output_type": "stream",
     "text": [
      "Unweighted Accuracy: 0.88 (+/- 0.01)\n",
      "Weighted Accuracy: 0.93 (+/- 0.02)\n"
     ]
    }
   ],
   "source": [
    "score = cross_val_score(knn, X_test, Y_, cv=5)\n",
    "print(\"Unweighted Accuracy: %0.2f (+/- %0.2f)\" % (score.mean(), score.std() * 2))\n",
    "score_w = cross_val_score(knn_w, X_test, Y_, cv=5)\n",
    "print(\"Weighted Accuracy: %0.2f (+/- %0.2f)\" % (score_w.mean(), score_w.std() * 2))"
   ]
  },
  {
   "cell_type": "code",
   "execution_count": 175,
   "metadata": {},
   "outputs": [
    {
     "name": "stdout",
     "output_type": "stream",
     "text": [
      "Unweighted Accuracy: 0.88 (+/- 0.01)\n"
     ]
    }
   ],
   "source": [
    "knn = neighbors.KNeighborsRegressor(n_neighbors=10)\n",
    "X = pd.DataFrame(hr_df[['average_montly_hours',\n",
    "                        'last_evaluation',\n",
    "                        'number_project',\n",
    "                        'time_spend_company']])\n",
    "Y = hr_df.satisfaction_level\n",
    "X_train, X_test, Y_train, Y_test = train_test_split(X, Y, test_size=.35)\n",
    "knn.fit(X_train, Y_train)\n",
    "\n",
    "Y_ = knn.predict(X_test)\n",
    "\n",
    "score = cross_val_score(knn, X_test, Y_, cv=5)\n",
    "print(\"Unweighted Accuracy: %0.2f (+/- %0.2f)\" % (score.mean(), score.std() * 2))\n"
   ]
  },
  {
   "cell_type": "code",
   "execution_count": 177,
   "metadata": {},
   "outputs": [
    {
     "name": "stdout",
     "output_type": "stream",
     "text": [
      "Weighted Accuracy: 0.93 (+/- 0.01)\n"
     ]
    }
   ],
   "source": [
    "knn_w = neighbors.KNeighborsRegressor(n_neighbors=10, weights='distance')\n",
    "X = pd.DataFrame(hr_df[['average_montly_hours',\n",
    "                        'last_evaluation',\n",
    "                        'number_project',\n",
    "                        'time_spend_company']])\n",
    "Y = hr_df.satisfaction_level\n",
    "X_train, X_test, Y_train, Y_test = train_test_split(X, Y, test_size=.35)\n",
    "knn_w.fit(X_train, Y_train)\n",
    "\n",
    "Y_ = knn.predict(X_test)\n",
    "\n",
    "score = cross_val_score(knn_w, X_test, Y_, cv=5)\n",
    "print(\"Weighted Accuracy: %0.2f (+/- %0.2f)\" % (score.mean(), score.std() * 2))\n"
   ]
  },
  {
   "cell_type": "code",
   "execution_count": 171,
   "metadata": {},
   "outputs": [
    {
     "name": "stdout",
     "output_type": "stream",
     "text": [
      "Coefficients: \n",
      " [[  1.10635551e-04   2.60831771e-01  -3.96186629e-02  -1.46702659e-02]]\n",
      "\n",
      "Intercept:  [ 0.60601233]\n",
      "\n",
      "R-squared: \n",
      "0.0533838068519\n",
      "0.0551012121867\n"
     ]
    },
    {
     "name": "stderr",
     "output_type": "stream",
     "text": [
      "/anaconda/lib/python3.6/site-packages/ipykernel_launcher.py:2: FutureWarning: reshape is deprecated and will raise in a subsequent release. Please use .values.reshape(...) instead\n",
      "  \n"
     ]
    }
   ],
   "source": [
    "regr = linear_model.LinearRegression()\n",
    "Y = hr_df['satisfaction_level'].reshape(-1, 1)\n",
    "X = pd.DataFrame(hr_df[['average_montly_hours',\n",
    "                        'last_evaluation',\n",
    "                        'number_project',\n",
    "                        'time_spend_company']])\n",
    "\n",
    "X_train, X_test, Y_train, Y_test = train_test_split(X, Y, test_size=.35)\n",
    "\n",
    "regr.fit(X_train, Y_train)\n",
    "\n",
    "\n",
    "print('Coefficients: \\n', regr.coef_)\n",
    "print('\\nIntercept: ', regr.intercept_)\n",
    "print('\\nR-squared: ')\n",
    "print(regr.score(X_test, Y_test))\n",
    "print(regr.score(X, Y))"
   ]
  },
  {
   "cell_type": "markdown",
   "metadata": {},
   "source": [
    "# Model Comparison\n",
    "\n",
    "The KNN model performed much better in scoring compared to the regression model. I spent more time messing around with the KNN model than I did with the OLS model, and that could have something to do with it."
   ]
  }
 ],
 "metadata": {
  "kernelspec": {
   "display_name": "Python 3",
   "language": "python",
   "name": "python3"
  },
  "language_info": {
   "codemirror_mode": {
    "name": "ipython",
    "version": 3
   },
   "file_extension": ".py",
   "mimetype": "text/x-python",
   "name": "python",
   "nbconvert_exporter": "python",
   "pygments_lexer": "ipython3",
   "version": "3.6.1"
  }
 },
 "nbformat": 4,
 "nbformat_minor": 2
}
